{
 "cells": [
  {
   "cell_type": "code",
   "execution_count": null,
   "metadata": {
    "collapsed": true
   },
   "outputs": [],
   "source": [
    "def AlignImage(static, moving, level_iters):\n",
    "    \"\"\"The Symmetric Normalization algorithm uses a multi-resolution approach by building a Gaussian Pyramid.\n",
    "    The static image is used a reference; a transformation that transforms the moving image into the\n",
    "    static image is found and applied to the static image.  Returns overlay images, error image, and transformation matrix. \n",
    "    Uses CrossCorrelation metric which makes sense for aligning AFM topography. \n",
    "    \n",
    "    INPUT: static and moving are both 2d arrays of the same dimension.\n",
    "    Level_iters is a list (typically 4 entries) defines\n",
    "    the number of iterations a user wants at each level of the pyramid, with the 0th entry referring to the \n",
    "    finest resolution.\n",
    "    \n",
    "    OUTPUT: overlayimages: an image with the static, moving, and overlay images\n",
    "            errorimage: the difference between the warped_moving image and the static reference. THe flatter \n",
    "            the better.\n",
    "            transformmatrix: the matrix corresponding to the forward transformation of a matrix.\"\"\"\n",
    "    \n",
    "    from dipy.align.imwarp import SymmetricDiffeomorphicRegistration\n",
    "    from dipy.align.metrics import SSDMetric, CCMetric, EMMetric\n",
    "    from dipy.viz import regtools\n",
    "\n",
    "    dim = static.ndim\n",
    "    metric = CCMetric(dim)\n",
    "    sdr = SymmetricDiffeomorphicRegistration(metric, level_iters, inv_iter = 50)\n",
    "    mapping = sdr.optimize(static, moving)\n",
    "    warped_moving = mapping.transform(moving, 'linear')\n",
    "    overlayimages = regtools.overlay_images(static, warped_moving, 'Static','Overlay','Warped moving',\n",
    "   'direct_warp_result.png')\n",
    "    errorimage = plt.matshow(warped_moving-static, cmap='viridis')\n",
    "    transformmatrix=mapping.forward\n",
    "    \n",
    "    \n",
    "    return overlayimages, errorimage, trasnformmatrix"
   ]
  }
 ],
 "metadata": {
  "anaconda-cloud": {},
  "kernelspec": {
   "display_name": "Python [default]",
   "language": "python",
   "name": "python3"
  },
  "language_info": {
   "codemirror_mode": {
    "name": "ipython",
    "version": 3
   },
   "file_extension": ".py",
   "mimetype": "text/x-python",
   "name": "python",
   "nbconvert_exporter": "python",
   "pygments_lexer": "ipython3",
   "version": "3.5.2"
  }
 },
 "nbformat": 4,
 "nbformat_minor": 1
}
