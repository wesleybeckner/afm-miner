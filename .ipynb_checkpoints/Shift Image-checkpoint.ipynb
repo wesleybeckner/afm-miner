{
 "cells": [
  {
   "cell_type": "code",
   "execution_count": 97,
   "metadata": {
    "collapsed": true
   },
   "outputs": [],
   "source": [
    "import pandas as pd\n",
    "import numpy as np\n",
    "import os"
   ]
  },
  {
   "cell_type": "code",
   "execution_count": 112,
   "metadata": {
    "collapsed": false
   },
   "outputs": [],
   "source": [
    "MABrConductiveHeightPath='./data/MABr.2.height.contact.txt'\n",
    "MABrSKPMHeightPath='./data/MABr.2.height.tapping.txt'\n",
    "MABrheightPath='./data/MABr.1.Ht.txt'\n",
    "\n",
    "#load in txt files corresponding to height\n",
    "MABrConductiveHeight=np.loadtxt(MABrheightPath, delimiter=\"\\t\", dtype='float')\n",
    "MABrSKPMHeight=np.loadtxt(MABrSKPMHeightPath, delimiter=\"\\t\", dtype='float')\n",
    "MABrHeight=np.loadtxt(MABrheightPath, delimiter=\"\\t\", dtype='float')\n",
    "#make empty matrix to store pearson corr coefficient\n",
    "PearsonCoeffMatrix=pd.DataFrame()\n",
    "\n",
    "def FindShift(Image1, Image2, xlength, ylength):\n",
    "    \"\"\"This function finds the offset of Image2 from Image1.\"\"\"\n",
    "    end\n",
    "#why aren't the two height images the same shape? \n",
    "\n",
    "from scipy import signal\n",
    "from scipy import misc\n",
    "face = misc.face(gray=True) - misc.face(gray=True).mean()\n",
    "template = np.copy(face[300:365, 670:750])  # right eye\n",
    "template -= template.mean()\n",
    "face = face + np.random.randn(*face.shape) * 50  # add noise\n",
    "corr = signal.correlate2d(face, template, boundary='symm', mode='same')\n",
    "y, x = np.unravel_index(np.argmax(corr), corr.shape)  # find the match"
   ]
  },
  {
   "cell_type": "code",
   "execution_count": 113,
   "metadata": {
    "collapsed": false
   },
   "outputs": [
    {
     "data": {
      "text/plain": [
       "331"
      ]
     },
     "execution_count": 113,
     "metadata": {},
     "output_type": "execute_result"
    }
   ],
   "source": [
    "y"
   ]
  },
  {
   "cell_type": "code",
   "execution_count": 109,
   "metadata": {
    "collapsed": false
   },
   "outputs": [
    {
     "data": {
      "text/plain": [
       "4.6584930000000001e-08"
      ]
     },
     "execution_count": 109,
     "metadata": {},
     "output_type": "execute_result"
    }
   ],
   "source": [
    "test[5,4]"
   ]
  },
  {
   "cell_type": "code",
   "execution_count": null,
   "metadata": {
    "collapsed": false
   },
   "outputs": [],
   "source": []
  },
  {
   "cell_type": "code",
   "execution_count": null,
   "metadata": {
    "collapsed": true
   },
   "outputs": [],
   "source": []
  }
 ],
 "metadata": {
  "anaconda-cloud": {},
  "kernelspec": {
   "display_name": "Python [default]",
   "language": "python",
   "name": "python3"
  },
  "language_info": {
   "codemirror_mode": {
    "name": "ipython",
    "version": 3
   },
   "file_extension": ".py",
   "mimetype": "text/x-python",
   "name": "python",
   "nbconvert_exporter": "python",
   "pygments_lexer": "ipython3",
   "version": "3.5.2"
  }
 },
 "nbformat": 4,
 "nbformat_minor": 1
}
