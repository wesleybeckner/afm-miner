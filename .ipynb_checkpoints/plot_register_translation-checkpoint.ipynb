{
 "cells": [
  {
   "cell_type": "code",
   "execution_count": null,
   "metadata": {
    "collapsed": false
   },
   "outputs": [],
   "source": [
    "%matplotlib inline"
   ]
  },
  {
   "cell_type": "markdown",
   "metadata": {},
   "source": [
    "\n",
    "=====================================\n",
    "Cross-Correlation (Phase Correlation)\n",
    "=====================================\n",
    "\n",
    "In this example, we use phase correlation to identify the relative shift\n",
    "between two similar-sized images.\n",
    "\n",
    "The ``register_translation`` function uses cross-correlation in Fourier space,\n",
    "optionally employing an upsampled matrix-multiplication DFT to achieve\n",
    "arbitrary subpixel precision [1]_.\n",
    "\n",
    ".. [1] Manuel Guizar-Sicairos, Samuel T. Thurman, and James R. Fienup,\n",
    "       \"Efficient subpixel image registration algorithms,\" Optics Letters 33,\n",
    "       156-158 (2008). DOI:10.1364/OL.33.000156\n",
    "\n",
    "\n"
   ]
  },
  {
   "cell_type": "code",
   "execution_count": null,
   "metadata": {
    "collapsed": false
   },
   "outputs": [],
   "source": [
    "import numpy as np\n",
    "import matplotlib.pyplot as plt\n",
    "\n",
    "from skimage import data\n",
    "from skimage.feature import register_translation\n",
    "from skimage.feature.register_translation import _upsampled_dft\n",
    "from scipy.ndimage import fourier_shift\n",
    "\n",
    "image = data.camera()\n",
    "shift = (-22.4, 13.32)\n",
    "# The shift corresponds to the pixel offset relative to the reference image\n",
    "offset_image = fourier_shift(np.fft.fftn(image), shift)\n",
    "offset_image = np.fft.ifftn(offset_image)\n",
    "print(\"Known offset (y, x): {}\".format(shift))\n",
    "\n",
    "# pixel precision first\n",
    "shift, error, diffphase = register_translation(image, offset_image)\n",
    "\n",
    "fig = plt.figure(figsize=(8, 3))\n",
    "ax1 = plt.subplot(1, 3, 1, adjustable='box-forced')\n",
    "ax2 = plt.subplot(1, 3, 2, sharex=ax1, sharey=ax1, adjustable='box-forced')\n",
    "ax3 = plt.subplot(1, 3, 3)\n",
    "\n",
    "ax1.imshow(image, cmap='gray')\n",
    "ax1.set_axis_off()\n",
    "ax1.set_title('Reference image')\n",
    "\n",
    "ax2.imshow(offset_image.real, cmap='gray')\n",
    "ax2.set_axis_off()\n",
    "ax2.set_title('Offset image')\n",
    "\n",
    "# Show the output of a cross-correlation to show what the algorithm is\n",
    "# doing behind the scenes\n",
    "image_product = np.fft.fft2(image) * np.fft.fft2(offset_image).conj()\n",
    "cc_image = np.fft.fftshift(np.fft.ifft2(image_product))\n",
    "ax3.imshow(cc_image.real)\n",
    "ax3.set_axis_off()\n",
    "ax3.set_title(\"Cross-correlation\")\n",
    "\n",
    "plt.show()\n",
    "\n",
    "print(\"Detected pixel offset (y, x): {}\".format(shift))\n",
    "\n",
    "# subpixel precision\n",
    "shift, error, diffphase = register_translation(image, offset_image, 100)\n",
    "\n",
    "fig = plt.figure(figsize=(8, 3))\n",
    "ax1 = plt.subplot(1, 3, 1, adjustable='box-forced')\n",
    "ax2 = plt.subplot(1, 3, 2, sharex=ax1, sharey=ax1, adjustable='box-forced')\n",
    "ax3 = plt.subplot(1, 3, 3)\n",
    "\n",
    "ax1.imshow(image, cmap='gray')\n",
    "ax1.set_axis_off()\n",
    "ax1.set_title('Reference image')\n",
    "\n",
    "ax2.imshow(offset_image.real, cmap='gray')\n",
    "ax2.set_axis_off()\n",
    "ax2.set_title('Offset image')\n",
    "\n",
    "# Calculate the upsampled DFT, again to show what the algorithm is doing\n",
    "# behind the scenes.  Constants correspond to calculated values in routine.\n",
    "# See source code for details.\n",
    "cc_image = _upsampled_dft(image_product, 150, 100, (shift*100)+75).conj()\n",
    "ax3.imshow(cc_image.real)\n",
    "ax3.set_axis_off()\n",
    "ax3.set_title(\"Supersampled XC sub-area\")\n",
    "\n",
    "\n",
    "plt.show()\n",
    "\n",
    "print(\"Detected subpixel offset (y, x): {}\".format(shift))"
   ]
  }
 ],
 "metadata": {
  "kernelspec": {
   "display_name": "Python [default]",
   "language": "python",
   "name": "python3"
  },
  "language_info": {
   "codemirror_mode": {
    "name": "ipython",
    "version": 3
   },
   "file_extension": ".py",
   "mimetype": "text/x-python",
   "name": "python",
   "nbconvert_exporter": "python",
   "pygments_lexer": "ipython3",
   "version": "3.5.2"
  }
 },
 "nbformat": 4,
 "nbformat_minor": 0
}
