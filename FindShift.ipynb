{
 "cells": [
  {
   "cell_type": "code",
   "execution_count": 2,
   "metadata": {
    "collapsed": true
   },
   "outputs": [],
   "source": [
    "import pandas as pd\n",
    "import numpy as np\n",
    "import matplotlib.pyplot as plt \n",
    "from scipy import signal\n",
    "from scipy import misc\n",
    "%matplotlib inline"
   ]
  },
  {
   "cell_type": "code",
   "execution_count": 53,
   "metadata": {
    "collapsed": false
   },
   "outputs": [],
   "source": [
    "MABrConductiveHeightPath='./data/MABr.2.height.contact.txt'\n",
    "MABrSKPMHeightPath='./data/MABr.2.height.tapping.txt'\n",
    "MABrheightPath='./data/MABr.1.Ht.txt'\n",
    "\n",
    "#load in txt files corresponding to height\n",
    "MABrConductiveHeight=np.loadtxt(MABrheightPath, delimiter=\"\\t\", dtype='float')\n",
    "MABrSKPMHeight=np.loadtxt(MABrSKPMHeightPath, delimiter=\"\\t\", dtype='float')\n",
    "MABrHeight=np.loadtxt(MABrheightPath, delimiter=\"\\t\", dtype='float')\n",
    "#make empty matrix to store pearson corr coefficient\n",
    "\n",
    "def FindShift(Image1, Image2, xlength, ylength):\n",
    "    \"\"\"This function finds the offset of Image2 from Image1.\n",
    "    It will shift an image to match another by finding the X and Y offsets \n",
    "    that make the correlation between the two images a maximum. \n",
    "    INPUTS: \n",
    "        Image1: a 2x2 array of numbers that are a measure of height. \n",
    "        Image2: a 2x2 array of numbers that are a measure of height. \n",
    "        xlength: # of pixels you want the program to search in x direction\n",
    "        ylength: # of pixels you want the program to search in the y direction.\"\"\"\n",
    "    PearsonCoeffMatrix=np.empty(shape=(2*xlength+1,2*ylength+1))\n",
    "    for x in (range(xlength*2+1)):\n",
    "        for y in (range(ylength*2+1)):\n",
    "            #call ShiftImage, which is a diff function. \n",
    "            PearsonCoeffMatrix[x,y]= ShiftImage(Image1, Image2, j, i)\n",
    "    return PearsonCoeffMatrix, xvar\n",
    "            \n",
    "\n",
    "\n",
    "#face = misc.face(gray=True) - misc.face(gray=True).mean()\n",
    "#template = np.copy(face[300:365, 670:750])  # right eye\n",
    "#template -= template.mean()\n",
    "#face = face + np.random.randn(*face.shape) * 50  # add noise\n",
    "#corr = signal.correlate2d(face, template, boundary='symm', mode='same')\n",
    "#y, x = np.unravel_index(np.argmax(corr), corr.shape)  # find the match\n"
   ]
  },
  {
   "cell_type": "code",
   "execution_count": 54,
   "metadata": {
    "collapsed": false
   },
   "outputs": [
    {
     "ename": "NameError",
     "evalue": "name 'ShiftImage' is not defined",
     "output_type": "error",
     "traceback": [
      "\u001b[0;31m---------------------------------------------------------------------------\u001b[0m",
      "\u001b[0;31mNameError\u001b[0m                                 Traceback (most recent call last)",
      "\u001b[0;32m<ipython-input-54-b940d02131fd>\u001b[0m in \u001b[0;36m<module>\u001b[0;34m()\u001b[0m\n\u001b[0;32m----> 1\u001b[0;31m \u001b[0mFindShift\u001b[0m\u001b[0;34m(\u001b[0m\u001b[0;36m2\u001b[0m\u001b[0;34m,\u001b[0m\u001b[0;36m2\u001b[0m\u001b[0;34m,\u001b[0m\u001b[0;36m3\u001b[0m\u001b[0;34m,\u001b[0m\u001b[0;36m3\u001b[0m\u001b[0;34m)\u001b[0m\u001b[0;34m\u001b[0m\u001b[0m\n\u001b[0m",
      "\u001b[0;32m<ipython-input-53-2b2d1594e119>\u001b[0m in \u001b[0;36mFindShift\u001b[0;34m(Image1, Image2, xlength, ylength)\u001b[0m\n\u001b[1;32m     21\u001b[0m     \u001b[0;32mfor\u001b[0m \u001b[0mx\u001b[0m \u001b[0;32min\u001b[0m \u001b[0;34m(\u001b[0m\u001b[0mrange\u001b[0m\u001b[0;34m(\u001b[0m\u001b[0mxlength\u001b[0m\u001b[0;34m*\u001b[0m\u001b[0;36m2\u001b[0m\u001b[0;34m+\u001b[0m\u001b[0;36m1\u001b[0m\u001b[0;34m)\u001b[0m\u001b[0;34m)\u001b[0m\u001b[0;34m:\u001b[0m\u001b[0;34m\u001b[0m\u001b[0m\n\u001b[1;32m     22\u001b[0m         \u001b[0;32mfor\u001b[0m \u001b[0my\u001b[0m \u001b[0;32min\u001b[0m \u001b[0;34m(\u001b[0m\u001b[0mrange\u001b[0m\u001b[0;34m(\u001b[0m\u001b[0mylength\u001b[0m\u001b[0;34m*\u001b[0m\u001b[0;36m2\u001b[0m\u001b[0;34m+\u001b[0m\u001b[0;36m1\u001b[0m\u001b[0;34m)\u001b[0m\u001b[0;34m)\u001b[0m\u001b[0;34m:\u001b[0m\u001b[0;34m\u001b[0m\u001b[0m\n\u001b[0;32m---> 23\u001b[0;31m             \u001b[0mPearsonCoeffMatrix\u001b[0m\u001b[0;34m[\u001b[0m\u001b[0mx\u001b[0m\u001b[0;34m,\u001b[0m\u001b[0my\u001b[0m\u001b[0;34m]\u001b[0m\u001b[0;34m=\u001b[0m \u001b[0mShiftImage\u001b[0m\u001b[0;34m(\u001b[0m\u001b[0mImage1\u001b[0m\u001b[0;34m,\u001b[0m \u001b[0mImage2\u001b[0m\u001b[0;34m,\u001b[0m \u001b[0mj\u001b[0m\u001b[0;34m,\u001b[0m \u001b[0mi\u001b[0m\u001b[0;34m)\u001b[0m\u001b[0;34m\u001b[0m\u001b[0m\n\u001b[0m\u001b[1;32m     24\u001b[0m     \u001b[0;32mreturn\u001b[0m \u001b[0mPearsonCoeffMatrix\u001b[0m\u001b[0;34m,\u001b[0m \u001b[0mxvar\u001b[0m\u001b[0;34m\u001b[0m\u001b[0m\n\u001b[1;32m     25\u001b[0m \u001b[0;34m\u001b[0m\u001b[0m\n",
      "\u001b[0;31mNameError\u001b[0m: name 'ShiftImage' is not defined"
     ]
    }
   ],
   "source": [
    "FindShift(2,2,3,3)"
   ]
  },
  {
   "cell_type": "code",
   "execution_count": 49,
   "metadata": {
    "collapsed": false
   },
   "outputs": [
    {
     "data": {
      "text/plain": [
       "[0, 1, 2, 3, 4, 5, 6, 7, 8]"
      ]
     },
     "execution_count": 49,
     "metadata": {},
     "output_type": "execute_result"
    }
   ],
   "source": [
    "x=[]\n",
    "for i in range(4*2+1):\n",
    "    x.append(i)\n",
    "x"
   ]
  },
  {
   "cell_type": "code",
   "execution_count": 54,
   "metadata": {
    "collapsed": false
   },
   "outputs": [],
   "source": [
    "corr=signal.correlate2d(MABrConductiveHeight,MABrSKPMHeight)\n",
    "y,x=np.unravel_index(np.argmax(corr),corr.shape)\n"
   ]
  },
  {
   "cell_type": "code",
   "execution_count": 33,
   "metadata": {
    "collapsed": false
   },
   "outputs": [
    {
     "name": "stdout",
     "output_type": "stream",
     "text": [
      "(250, 253) (193, 193) (250, 253)\n"
     ]
    }
   ],
   "source": [
    "#images dimensions diff  \n",
    "ConductiveDim=MABrConductiveHeight.shape\n",
    "SKPMDim=MABrSKPMHeight.shape\n",
    "HeightDim=MABrHeight.shape\n",
    "print(ConductiveDim, SKPMDim, HeightDim)"
   ]
  },
  {
   "cell_type": "code",
   "execution_count": null,
   "metadata": {
    "collapsed": false
   },
   "outputs": [],
   "source": []
  },
  {
   "cell_type": "code",
   "execution_count": null,
   "metadata": {
    "collapsed": false
   },
   "outputs": [],
   "source": []
  },
  {
   "cell_type": "code",
   "execution_count": 1,
   "metadata": {
    "collapsed": false,
    "scrolled": true
   },
   "outputs": [
    {
     "ename": "NameError",
     "evalue": "name 'plt' is not defined",
     "output_type": "error",
     "traceback": [
      "\u001b[0;31m---------------------------------------------------------------------------\u001b[0m",
      "\u001b[0;31mNameError\u001b[0m                                 Traceback (most recent call last)",
      "\u001b[0;32m<ipython-input-1-ea9502ae0a23>\u001b[0m in \u001b[0;36m<module>\u001b[0;34m()\u001b[0m\n\u001b[0;32m----> 1\u001b[0;31m \u001b[0mfig\u001b[0m\u001b[0;34m=\u001b[0m\u001b[0mplt\u001b[0m\u001b[0;34m.\u001b[0m\u001b[0mfigure\u001b[0m\u001b[0;34m(\u001b[0m\u001b[0mfigsize\u001b[0m\u001b[0;34m=\u001b[0m\u001b[0;34m(\u001b[0m\u001b[0;36m10\u001b[0m\u001b[0;34m,\u001b[0m\u001b[0;36m3\u001b[0m\u001b[0;34m)\u001b[0m\u001b[0;34m)\u001b[0m\u001b[0;34m\u001b[0m\u001b[0m\n\u001b[0m\u001b[1;32m      2\u001b[0m \u001b[0mConductiveHeight_ax\u001b[0m\u001b[0;34m=\u001b[0m\u001b[0mfig\u001b[0m\u001b[0;34m.\u001b[0m\u001b[0madd_subplot\u001b[0m\u001b[0;34m(\u001b[0m\u001b[0;36m131\u001b[0m\u001b[0;34m)\u001b[0m\u001b[0;34m\u001b[0m\u001b[0m\n\u001b[1;32m      3\u001b[0m \u001b[0mSKPMHeight_ax\u001b[0m\u001b[0;34m=\u001b[0m\u001b[0mfig\u001b[0m\u001b[0;34m.\u001b[0m\u001b[0madd_subplot\u001b[0m\u001b[0;34m(\u001b[0m\u001b[0;36m132\u001b[0m\u001b[0;34m)\u001b[0m\u001b[0;34m\u001b[0m\u001b[0m\n\u001b[1;32m      4\u001b[0m \u001b[0mHeight_ax\u001b[0m\u001b[0;34m=\u001b[0m\u001b[0mfig\u001b[0m\u001b[0;34m.\u001b[0m\u001b[0madd_subplot\u001b[0m\u001b[0;34m(\u001b[0m\u001b[0;36m133\u001b[0m\u001b[0;34m)\u001b[0m\u001b[0;34m\u001b[0m\u001b[0m\n\u001b[1;32m      5\u001b[0m \u001b[0;34m\u001b[0m\u001b[0m\n",
      "\u001b[0;31mNameError\u001b[0m: name 'plt' is not defined"
     ]
    }
   ],
   "source": [
    "fig=plt.figure(figsize=(10,3))\n",
    "ConductiveHeight_ax=fig.add_subplot(131)\n",
    "SKPMHeight_ax=fig.add_subplot(132)\n",
    "Height_ax=fig.add_subplot(133)\n",
    "\n",
    "ConductiveHeight_ax.imshow(MABrConductiveHeight, cmap=\"viridis\")\n",
    "ConductiveHeight_ax.set_title(\"Conductive Height\")\n",
    "SKPMHeight_ax.imshow(MABrSKPMHeight, cmap=\"viridis\")\n",
    "SKPMHeight_ax.set_title(\"SKPM Height\")\n",
    "Height_ax.imshow(MABrHeight, cmap=\"viridis\")\n",
    "Height_ax.set_title(\"Height\")\n",
    "\n",
    "plt.show()"
   ]
  },
  {
   "cell_type": "code",
   "execution_count": null,
   "metadata": {
    "collapsed": true
   },
   "outputs": [],
   "source": []
  }
 ],
 "metadata": {
  "anaconda-cloud": {},
  "kernelspec": {
   "display_name": "Python [default]",
   "language": "python",
   "name": "python3"
  },
  "language_info": {
   "codemirror_mode": {
    "name": "ipython",
    "version": 3
   },
   "file_extension": ".py",
   "mimetype": "text/x-python",
   "name": "python",
   "nbconvert_exporter": "python",
   "pygments_lexer": "ipython3",
   "version": "3.5.2"
  }
 },
 "nbformat": 4,
 "nbformat_minor": 1
}
